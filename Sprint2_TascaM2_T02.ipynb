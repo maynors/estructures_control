{
 "cells": [
  {
   "cell_type": "markdown",
   "id": "b3b89681-6052-4a43-a98b-ad84cae26e61",
   "metadata": {},
   "source": [
    "# Exercici 1\n",
    "L'exercici consisteix a crear un programa que et classifiqui una variable numèrica en funció de l’escala Suspès/Aprovat/Notable/Excel·lent.\n",
    "\n",
    "Recorda que Suspès < 5, Aprovat > 5 i < 7, Notable > 7 i < 9 i Excel·lent > 9."
   ]
  },
  {
   "cell_type": "code",
   "execution_count": 1,
   "id": "91381df9-0ba8-4b3d-86f5-593dba13ddad",
   "metadata": {},
   "outputs": [
    {
     "name": "stdin",
     "output_type": "stream",
     "text": [
      "Ingrese un numero del 0 al 10 6\n"
     ]
    },
    {
     "name": "stdout",
     "output_type": "stream",
     "text": [
      "\u001b[1mTu nota equivale a un APROBADO\u001b[0m\n"
     ]
    }
   ],
   "source": [
    "while True:\n",
    "    numero=input('Ingrese un numero del 0 al 10')\n",
    "    try:\n",
    "        numero= float(numero)\n",
    "        if numero < 0 or numero > 10:\n",
    "            print('El valor del número debe ser entre 0 y 10')\n",
    "        else : \n",
    "            if numero >= 0 and numero <= 5 :\n",
    "                print ('\\033[1m' + 'Tu nota equivale a un SUSPENSO' + '\\033[0m')\n",
    "            elif numero >= 5 and numero < 7 :\n",
    "                print ('\\033[1m' + 'Tu nota equivale a un APROBADO' + '\\033[0m')\n",
    "            elif numero >= 7 and numero < 9 :\n",
    "                print ('\\033[1m' + 'Tu nota equivale a un NOTABLE' + '\\033[0m')\n",
    "            elif numero >=9 and numero <= 10  :\n",
    "                print ('\\033[1m' + 'Tu nota equivale a un EXCELENTE' + '\\033[0m')\n",
    "            break;\n",
    "    except ValueError:\n",
    "        print('\\033[1m' + 'Este no es numero' + '\\033[0m')\n",
    "\n",
    "    "
   ]
  },
  {
   "cell_type": "markdown",
   "id": "c8b0e5ca-301b-44a6-9493-3bd94d58afde",
   "metadata": {
    "tags": []
   },
   "source": [
    "# Exercici 2\n",
    "Utilitzant el següent tutorial crea un programa que et pregunti dos números. T’ha de mostrar un missatge dient si el primer és més gran, el segon és més gran o són iguals."
   ]
  },
  {
   "cell_type": "code",
   "execution_count": 2,
   "id": "d85005de-6b7b-4041-9c0a-cbd20de98bd0",
   "metadata": {
    "tags": []
   },
   "outputs": [
    {
     "name": "stdin",
     "output_type": "stream",
     "text": [
      "Ingrese el primer número 2\n",
      "Ingrese el segundo número 6\n"
     ]
    },
    {
     "name": "stdout",
     "output_type": "stream",
     "text": [
      "\u001b[1mEl segundo número es más grande que el primero\u001b[0m\n"
     ]
    }
   ],
   "source": [
    "while True:\n",
    "    numero1=input('Ingrese el primer número')\n",
    "    numero2=input('Ingrese el segundo número')\n",
    "    try:\n",
    "        numero1=float(numero1)\n",
    "        numero2=float(numero2)\n",
    "        if numero1== numero2:\n",
    "            print('Los números son iguales')\n",
    "        elif numero1>numero2:\n",
    "            print('\\033[1m' + 'El primer número es más grande que el segundo' + '\\033[0m')\n",
    "        else: \n",
    "            print('\\033[1m' + 'El segundo número es más grande que el primero'+ '\\033[0m')\n",
    "        break;\n",
    "    except ValueError:\n",
    "        print('\\033[1m' + 'Los dos valores deben ser números' + '\\033[0m')"
   ]
  },
  {
   "cell_type": "markdown",
   "id": "13ca33bf-7eda-4361-a707-9d5047d5801c",
   "metadata": {},
   "source": [
    "# Exercici 3\n",
    "Crea un programa que et pregunti el teu nom, i et demani un número. Si el número és 0, hauria de mostrar un missatge d’error. En cas contrari, hauria de mostrar el nom repetit tants cops com indiqui el número. Per exemple, “Joan Joan Joan”."
   ]
  },
  {
   "cell_type": "code",
   "execution_count": 3,
   "id": "e982baeb-64a5-4123-9d09-dfe57b5a029b",
   "metadata": {
    "tags": []
   },
   "outputs": [
    {
     "name": "stdin",
     "output_type": "stream",
     "text": [
      "Escribe tu nombre maynor\n",
      "Ahora, escribe un número 8\n"
     ]
    },
    {
     "name": "stdout",
     "output_type": "stream",
     "text": [
      "\u001b[1mmaynor maynor maynor maynor maynor maynor maynor maynor \u001b[0m\n"
     ]
    }
   ],
   "source": [
    "nombre=input('Escribe tu nombre')\n",
    "nombreRepetido=''\n",
    "numero=input('Ahora, escribe un número')\n",
    "if int(numero)<=0:\n",
    "    print('El número debe ser mayor a 0')\n",
    "else:\n",
    "    for i in range(int(numero)):\n",
    "        nombreRepetido=nombreRepetido+nombre+' '\n",
    "print('\\033[1m'+nombreRepetido+'\\033[0m')"
   ]
  },
  {
   "cell_type": "markdown",
   "id": "67655799-d199-432d-9fdb-1f40c67f95d0",
   "metadata": {},
   "source": [
    "# Exercici 4\n",
    "Crea un programa que donada una llista qualsevol, et digui si és simètrica o no. Si ho és, que et digui quants elements té."
   ]
  },
  {
   "cell_type": "code",
   "execution_count": 13,
   "id": "007a33bd-3b30-4f03-b189-a37f003a8eed",
   "metadata": {
    "tags": []
   },
   "outputs": [
    {
     "name": "stdout",
     "output_type": "stream",
     "text": [
      "La lista es simetrica:  True\n",
      "La lista tiene  6  elementos\n"
     ]
    }
   ],
   "source": [
    "#Solución 1: en caso cada elemento de la lista es un carácter\n",
    "lista_Sim=['a','b','c','c','b','a']\n",
    "iteraciones= int(len(lista_Sim)/2) \n",
    "iNegativo= -1\n",
    "esSimetrica=True\n",
    "\n",
    "for i in range(iteraciones):\n",
    "    if lista_Sim[i]==lista_Sim[iNegativo]:\n",
    "        iNegativo += -1\n",
    "    else:\n",
    "        esSimetrica=False\n",
    "        break;\n",
    "if esSimetrica==True:\n",
    "    print('La lista es simetrica: ', esSimetrica)\n",
    "    print('La lista tiene ', str(len(lista_Sim)),' elementos')\n",
    "else:\n",
    "   print('La lista es simetrica: ', esSimetrica)  \n"
   ]
  },
  {
   "cell_type": "code",
   "execution_count": 14,
   "id": "984dd66d-113d-4ebf-8e9e-818d33764a40",
   "metadata": {
    "tags": []
   },
   "outputs": [
    {
     "name": "stdout",
     "output_type": "stream",
     "text": [
      "La lista es Simétrica\n",
      "La lista tiene  6  elementos\n"
     ]
    }
   ],
   "source": [
    "#Solución 2: en caso la lista sean palabras o caracteres\n",
    "lista2=['somos','o','n','o','som','os']\n",
    "i2=-1\n",
    "palabra1=''\n",
    "palabra2=''\n",
    "for i in lista2:\n",
    "    palabra1=palabra1+i\n",
    "    if len(lista2[i2])>1: # Si el elemento de la lista es mas de un carácter\n",
    "        for i3 in reversed(lista2[i2]):\n",
    "            palabra2=palabra2+i3\n",
    "        i2+=-1\n",
    "    else:\n",
    "        palabra2=palabra2+lista2[i2]\n",
    "        i2+=-1\n",
    "        \n",
    "if palabra1==palabra2:\n",
    "    print('La lista es Simétrica')\n",
    "    print('La lista tiene ', str(len(lista2)),' elementos')\n",
    "else:\n",
    "    print('La lista NO es Simétrica')\n"
   ]
  },
  {
   "cell_type": "markdown",
   "id": "1baf2d88-36b8-45bb-a2fa-a1e0a3f11800",
   "metadata": {},
   "source": [
    "# Exercici 5\n",
    "Crea un programa que donada una llista, et digui quants números coincideixen amb la seva posició. Per exemple [3,4,2,0,2,3,6] el 2 i el 6 coincideixen."
   ]
  },
  {
   "cell_type": "code",
   "execution_count": 16,
   "id": "bb3fcd8f-7051-4448-98b4-7d11024ede86",
   "metadata": {
    "tags": []
   },
   "outputs": [
    {
     "name": "stdout",
     "output_type": "stream",
     "text": [
      "La posicion 2 coincide\n",
      "La posicion 6 coincide\n",
      "La posicion 7 coincide\n",
      "La posicion 9 coincide\n",
      "En total coiciden  4  posiciones\n"
     ]
    }
   ],
   "source": [
    "lista=[3,4,2,0,2,3,6,7,9,9]\n",
    "i=0\n",
    "i2=0\n",
    "for i in range(len(lista)):\n",
    "    if lista[i]==i:\n",
    "        print('La posicion '+str(i)+' coincide')\n",
    "        i2+=1\n",
    "print('En total coiciden ',i2,' posiciones')  "
   ]
  },
  {
   "cell_type": "code",
   "execution_count": null,
   "id": "5ad20b7a-8167-4b1e-90e1-c81f9bcd0370",
   "metadata": {},
   "outputs": [],
   "source": []
  }
 ],
 "metadata": {
  "kernelspec": {
   "display_name": "Python 3 (ipykernel)",
   "language": "python",
   "name": "python3"
  },
  "language_info": {
   "codemirror_mode": {
    "name": "ipython",
    "version": 3
   },
   "file_extension": ".py",
   "mimetype": "text/x-python",
   "name": "python",
   "nbconvert_exporter": "python",
   "pygments_lexer": "ipython3",
   "version": "3.11.1"
  }
 },
 "nbformat": 4,
 "nbformat_minor": 5
}
